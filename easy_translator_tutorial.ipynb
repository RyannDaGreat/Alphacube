{
 "cells": [
  {
   "cell_type": "markdown",
   "id": "c8bbcef5-4358-46b6-9c19-155c9bace134",
   "metadata": {},
   "source": [
    "# Setup"
   ]
  },
  {
   "cell_type": "markdown",
   "id": "98261340-20d7-48df-bbab-d9ca3119ce6e",
   "metadata": {},
   "source": [
    "## Imports"
   ]
  },
  {
   "cell_type": "code",
   "execution_count": null,
   "id": "297479ca-2c18-4cb9-aab9-10ac37619b0d",
   "metadata": {
    "scene__JustVid": true,
    "tags": [
     "ActiveScene"
    ]
   },
   "outputs": [],
   "source": [
    "import sys\n",
    "import icecream\n",
    "from icecream import ic\n",
    "sys.path.append('./translator')"
   ]
  },
  {
   "cell_type": "code",
   "execution_count": null,
   "id": "ad1930b7-b2eb-462f-a765-49bab7851885",
   "metadata": {
    "cellView": "form",
    "colab": {},
    "colab_type": "code",
    "id": "QDs4Im9WTQoy",
    "scene__JustVid": true,
    "tags": [
     "ActiveScene"
    ]
   },
   "outputs": [],
   "source": [
    "import torch\n",
    "import rp\n",
    "import numpy as np\n",
    "from translator.trainer import MUNIT_Trainer as Trainer\n",
    "from translator.data import ImageFolder\n",
    "from translator.easy_translator import EasyTranslator"
   ]
  },
  {
   "cell_type": "code",
   "execution_count": null,
   "id": "8ee28c95-aa1d-4e31-8175-9cd1a473d03d",
   "metadata": {},
   "outputs": [],
   "source": [
    "from source.unprojector import unproject_translations\n",
    "from source.unprojector import unproject_translations_individually\n",
    "from source.unprojector import combine_individual_unprojections\n",
    "from source.projector import project_textures\n",
    "from source.projector import colorized_scene_labels\n",
    "from source.scene_reader import extract_scene_uvs_and_scene_labels\n",
    "from source.color_quantizer import quantize_image"
   ]
  },
  {
   "cell_type": "code",
   "execution_count": null,
   "id": "17bb7ce7-1dd5-4cb4-8d43-2ef4acb13d08",
   "metadata": {
    "scene__JustVid": true,
    "tags": [
     "ActiveScene"
    ]
   },
   "outputs": [],
   "source": [
    "from IPython.display import clear_output\n",
    "from IPython.display import Video"
   ]
  },
  {
   "cell_type": "markdown",
   "id": "edaa85a3-b966-4ce5-8c1f-90e59f7e6b72",
   "metadata": {},
   "source": [
    "## Other Setup"
   ]
  },
  {
   "cell_type": "code",
   "execution_count": null,
   "id": "8be09caf-f560-481e-82f0-881dee44f267",
   "metadata": {},
   "outputs": [],
   "source": [
    "device = torch.device('cuda' if torch.cuda.is_available() else 'cpu')\n",
    "# devuce = 'cpu'\n",
    "torch.cuda.set_device(0) #Choose a free GPU"
   ]
  },
  {
   "cell_type": "code",
   "execution_count": null,
   "id": "80c206b5-ac5c-43af-8f62-800da87b35a5",
   "metadata": {},
   "outputs": [],
   "source": [
    "%matplotlib inline\n",
    "%config InlineBackend.figure_format='retina'"
   ]
  },
  {
   "cell_type": "markdown",
   "id": "b3c90e85-0b30-463b-ab23-f465fc5b6678",
   "metadata": {},
   "source": [
    "# Load Trainer/Data/Config"
   ]
  },
  {
   "cell_type": "code",
   "execution_count": null,
   "id": "03d8c826-a8c7-449d-ab9c-253907611853",
   "metadata": {},
   "outputs": [],
   "source": [
    "# #Alphablock\n",
    "# config_file       = './translator/configs/alphablock_without_ssim_256.yaml'\n",
    "# image_folder_path = './datasets/alphacube/scenes/'\n",
    "# # image_folder_path = './datasets/alphacube/anim_2/'\n",
    "# # image_folder_path = './datasets/alphacube/anim_1/'\n",
    "# image_folder_path = '/mnt/Noman/Ubuntu/CleanCode/Datasets/diff_rendering/alphabetcube_L/SyntheticData/Anim3/Renderings'\n",
    "# checkpoint_folder = './translator/trained_models/outputs/alphablock_without_ssim_256/checkpoints'\n",
    "# # checkpoint_folder = './translator/trained_models/outputs/alphablock_without_ssim_256/checkpoints/old_checkpoints/v0.0.7'\n",
    "# # checkpoint_folder = './translator/save'\n",
    "# label_values = [0,255]"
   ]
  },
  {
   "cell_type": "code",
   "execution_count": null,
   "id": "df7e54e4-7d18-445b-937f-4222b10830b9",
   "metadata": {},
   "outputs": [],
   "source": [
    "# #Sunkist\n",
    "# config_file       = './translator/configs/config.yaml'\n",
    "# image_folder_path = '/mnt/Noman/Ubuntu/CleanCode/Datasets/diff_rendering/sunkist/synthetic/RenderingsAnim'\n",
    "# checkpoint_folder = './translator/trained_models/outputs/config/checkpoints'\n",
    "# label_values = [0,255]"
   ]
  },
  {
   "cell_type": "code",
   "execution_count": null,
   "id": "0ea55e0b-eb93-4860-b634-be59786f199e",
   "metadata": {},
   "outputs": [],
   "source": [
    "# #Alphadew\n",
    "# config_file       = './translator/configs/alphadew.yaml'\n",
    "# image_folder_path = './datasets/alphadew/scenes'\n",
    "# image_folder_path = '/home/ryan/CleanCode/Datasets/diff_rendering/sunkist_alphacube/synthetic/UV_Label_Exr_Anim'\n",
    "# image_folder_path = '/home/ryan/CleanCode/Datasets/diff_rendering/sunkist_alphacube/synthetic/UV_Label_Exr_Anim_2625'\n",
    "# # image_folder_path = '/home/ryan/CleanCode/Datasets/diff_rendering/sunkist_alphacube/synthetic/UV_Label_Exr_Mutant'\n",
    "# photo_folder_path = './datasets/alphadew/photos'\n",
    "# checkpoint_folder = './translator/trained_models/outputs/alphadew/checkpoints'\n",
    "# label_values = [0,127,255]"
   ]
  },
  {
   "cell_type": "code",
   "execution_count": null,
   "id": "62e63267-1969-4bb6-8d93-6fd4098c7387",
   "metadata": {},
   "outputs": [],
   "source": [
    "!ls ./translator/trained_models/outputs/"
   ]
  },
  {
   "cell_type": "code",
   "execution_count": null,
   "id": "8d3b8d9c-0377-42c3-bd50-633af0fc1c3b",
   "metadata": {},
   "outputs": [],
   "source": [
    "VERSION_NAME='five_items__7_batch'\n",
    "VERSION_NAME='five_items__shotgun' #Best one so far\n",
    "# VERSION_NAME='five_items_original'\n",
    "# VERSION_NAME='five_items__no_consis_but_tex'\n",
    "VERSION_NAME='five_items__shotgun__variable_sizes' #Best one so far\n",
    "VERSION_NAME='panorama_frontyard__var2' #Best one so far\n",
    "VERSION_NAME='panorama_frontyard__var3' #Best one so far\n",
    "VERSION_NAME='panorama_frontyard' #Best one so far\n",
    "VERSION_NAME='panorama_frontyard' #Best one so far\n",
    "VERSION_NAME='base__only_b2a' #Best one so far\n",
    "# VERSION_NAME='panorama_frontyard__var3_run2' #Best one so far"
   ]
  },
  {
   "cell_type": "code",
   "execution_count": null,
   "id": "4aa78dbe-ad67-47f5-8cfa-62f7d742ea22",
   "metadata": {},
   "outputs": [],
   "source": [
    "# #Five Items\n",
    "# config_file       = './translator/configs/five_items.yaml'\n",
    "# # image_folder_path = '/home/ryan/CleanCode/Datasets/diff_rendering/sunkist_alphacube/synthetic/UV_Label_Exr_Mutant'\n",
    "# image_folder_path = './datasets/five_items/scenes'\n",
    "# image_folder_path = rp.get_absolute_path('~/CleanCode/Datasets/diff_rendering/five_items/synthetic/UV_Label_Exr_Anim')\n",
    "# # image_folder_path = '/mnt/Noman/Ubuntu/CleanCode/Datasets/diff_rendering/five_items/synthetic/UV_Label_Exr_Anim_2'\n",
    "# photo_folder_path = './datasets/five_items/photos'\n",
    "\n",
    "# checkpoint_folder = './translator/trained_models/outputs/%s/checkpoints'%VERSION_NAME\n",
    "# config_file       = './translator/configs/%s.yaml'%VERSION_NAME\n",
    "\n",
    "# label_values = [0,50,100,150,200,255]"
   ]
  },
  {
   "cell_type": "code",
   "execution_count": null,
   "id": "542d0637-bdbf-4bb7-8a5b-887bd9bebb38",
   "metadata": {},
   "outputs": [],
   "source": [
    "# #Panoramas\n",
    "# image_folder_path = './datasets/panoramas/scenes'\n",
    "# photo_folder_path = './datasets/panoramas/photos_frontyard'\n",
    "\n",
    "# checkpoint_folder = './translator/trained_models/outputs/%s/checkpoints'%VERSION_NAME\n",
    "# config_file       = './translator/configs/%s.yaml'%VERSION_NAME\n",
    "\n",
    "# label_values = [0]"
   ]
  },
  {
   "cell_type": "code",
   "execution_count": null,
   "id": "992b3fa1-7144-4adb-a8a7-6889eab5bd8f",
   "metadata": {},
   "outputs": [],
   "source": [
    "#Three Synth Items\n",
    "VERSION_NAME='three_synth_base' #Best one so far\n",
    "VERSION_NAME='three_synth_base__no_texture' #Best one so far\n",
    "\n",
    "image_folder_path = './datasets/three_synth/scenes_anim'\n",
    "photo_folder_path = './datasets/three_synth/photos'\n",
    "\n",
    "checkpoint_folder = './translator/trained_models/outputs/%s/checkpoints'%VERSION_NAME\n",
    "config_file       = './translator/configs/%s.yaml'%VERSION_NAME\n",
    "\n",
    "label_values = [0,75,150,255]"
   ]
  },
  {
   "cell_type": "code",
   "execution_count": null,
   "id": "1b51aa43-0bd0-4d11-815f-47c8da0be7b5",
   "metadata": {},
   "outputs": [],
   "source": [
    "translator = EasyTranslator(label_values, checkpoint_folder, config_file, device)"
   ]
  },
  {
   "cell_type": "code",
   "execution_count": null,
   "id": "35b00f1d-aceb-4027-95d3-4e2893994c4d",
   "metadata": {},
   "outputs": [],
   "source": [
    "scene_image = rp.load_image(rp.random_element(rp.get_all_files(image_folder_path)))"
   ]
  },
  {
   "cell_type": "code",
   "execution_count": null,
   "id": "cdb0c49e-5b75-4063-bb7f-898d87865912",
   "metadata": {},
   "outputs": [],
   "source": [
    "rp.display_image(\n",
    "    rp.labeled_image(\n",
    "        rp.horizontally_concatenated_images(\n",
    "            rp.labeled_image(\n",
    "                scene_image, \n",
    "                'Before',\n",
    "                size=20,\n",
    "            ),\n",
    "            rp.labeled_image(\n",
    "                translator.translate(scene_image),\n",
    "                'After',\n",
    "                size=20,\n",
    "            ),\n",
    "        ),\n",
    "        repr(translator),\n",
    "        size=30,\n",
    "        text_color=(255,128,255),\n",
    "    )\n",
    ")"
   ]
  }
 ],
 "metadata": {
  "kernelspec": {
   "display_name": "Python 3",
   "language": "python",
   "name": "python3"
  },
  "language_info": {
   "codemirror_mode": {
    "name": "ipython",
    "version": 3
   },
   "file_extension": ".py",
   "mimetype": "text/x-python",
   "name": "python",
   "nbconvert_exporter": "python",
   "pygments_lexer": "ipython3",
   "version": "3.9.7"
  },
  "scenes_data": {
   "active_scene": "JustVid",
   "init_scene": null,
   "scenes": [
    "Default Scene",
    "JustVid"
   ]
  }
 },
 "nbformat": 4,
 "nbformat_minor": 5
}
