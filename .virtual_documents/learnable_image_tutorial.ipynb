import torch
import rp
from tqdm.notebook import tqdm as tqdm
from IPython.display import clear_output
import icecream


from source.learnable_textures import LearnableImageFourier
from source.learnable_textures import LearnableImageRaster
from source.learnable_textures import LearnableImageMLP    


device = torch.device('cuda' if torch.cuda.is_available() else 'cpu')


get_ipython().run_line_magic("matplotlib", " inline")
get_ipython().run_line_magic("config", " InlineBackend.figure_format='retina'")


target_image_choices={}

target_image_choices['fox'      ] = 'https://live.staticflickr.com/7492/15677707699_d9d67acf9d_b.jpg'
target_image_choices['magikarp' ] = 'https://static.pokemonpets.com/images/monsters-images-300-300/129-Magikarp.webp'
target_image_choices['makeup'   ] = 'https://i.redd.it/vxvs3dgsbxw31.png'
target_image_choices['snowflake'] = 'https://2s7gjr373w3x22jf92z99mgm5w-wpengine.netdna-ssl.com/wp-content/uploads/2020/11/snowflake_shutterstock_kichigin.jpg'

target_image = 'https://live.staticflickr.com/7492/15677707699_d9d67acf9d_b.jpg'


target_height = target_width = 512

target_image = rp.load_image    (target_image)
target_image = rp.as_float_image(target_image)
target_image = rp.as_rgb_image  (target_image)
target_image = rp.crop_image    (target_image, target_height, target_width, origin='center')
target_image = target_image.copy()

assert rp.get_image_height(target_image) == target_height
assert rp.get_image_width (target_image) == target_width 

print("Target Image:")
icecream.ic(target_image.shape, target_image.dtype, type(target_image), target_image.max(), target_image.min())
rp.display_image(target_image)


def run_test(method         = 'fourier',
             mapping_size   = 128      ,
             hidden_dim     = 256      ,
             scale          = 10       ,
             iter_per_epoch = 100      ,
             learning_rate  = 1e-4     ,
             num_epochs     = 4        ):
    
    print('Method:',method)
    
    assert method in 'fourier mlp raster'.split()

    target = rp.as_torch_image(target_image).to(device)
    
    print('Target:')
    rp.display_image(rp.as_numpy_image(target))
    
    
    if method=='mlp':
        learnable_image=LearnableImageMLP(target_height,
                                          target_width,
                                          hidden_dim=hidden_dim,
                                          device=device)
    elif method=='fourier':
        learnable_image=LearnableImageFourier(target_height,
                                              target_width,
                                              mapping_size=mapping_size,
                                              hidden_dim=hidden_dim,
                                              scale=scale,
                                              device=device)
    elif method=='raster':
        learnable_image=LearnableImageRaster(target_height,
                                             target_width)
        
    learnable_image.to(device)
    
    
    optimizer = torch.optim.Adam(learnable_image.parameters(), lr=learning_rate)
    
    images = []
    losses = []

    for iteration in tqdm(range(num_epochs*iter_per_epoch)):
        optimizer.zero_grad()

        generated = learnable_image()

        loss = torch.nn.functional.l1_loss(target, generated)

        loss.backward()
        optimizer.step()
        
        losses.append(float(loss))

        if iteration % iter_per_epoch == 0:
            epoch = iteration // iter_per_epoch
            print('Epoch %d, loss = %.03f' % (epoch, float(loss)))
            image = learnable_image.as_numpy_image()
            images.append(image)
            rp.display_image(image)
            
    clear_output()
    icecream.ic(method, mapping_size, hidden_dim, scale, iter_per_epoch, learning_rate, num_epochs)
    rp.line_graph(losses,xlabel='Iter',ylabel='Loss',title=method,logy=10)
    rp.display_image_slideshow(images)


run_test('fourier', mapping_size=128, hidden_dim=256, scale=1, iter_per_epoch=100, num_epochs=7)


run_test('raster',iter_per_epoch=1000,num_epochs=7)


run_test('raster',iter_per_epoch=1000,num_epochs=3, learning_rate=1e-1)


run_test('mlp',hidden_dim=1024,iter_per_epoch=100,num_epochs=4)


run_test('mlp',hidden_dim=256,iter_per_epoch=100,num_epochs=4)


run_test('mlp',mapping_size=128,hidden_dim=256,scale=1,iter_per_epoch=100,num_epochs=4)


run_test('fourier',mapping_size=128,hidden_dim=256,scale=1,iter_per_epoch=100,num_epochs=7)


run_test('fourier',mapping_size=2,hidden_dim=128,scale=1,iter_per_epoch=100,num_epochs=4)


run_test('fourier',mapping_size=256,hidden_dim=5,scale=1,iter_per_epoch=2000,num_epochs=5)


run_test('fourier',mapping_size=256,hidden_dim=256,scale=1,iter_per_epoch=100,num_epochs=5)



